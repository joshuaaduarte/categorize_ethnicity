{
 "cells": [
  {
   "cell_type": "code",
   "execution_count": null,
   "metadata": {
    "colab": {
     "base_uri": "https://localhost:8080/"
    },
    "id": "JcRYtf_3kewh",
    "outputId": "4d22c225-051c-4b36-8636-42897149129c"
   },
   "outputs": [
    {
     "name": "stdout",
     "output_type": "stream",
     "text": [
      "/content\n"
     ]
    }
   ],
   "source": [
    "! pwd"
   ]
  },
  {
   "cell_type": "code",
   "execution_count": null,
   "metadata": {
    "colab": {
     "base_uri": "https://localhost:8080/"
    },
    "id": "OL95ZAwl1HxL",
    "outputId": "51491bf1-ff03-4ca9-9d01-5d1236a18ef5"
   },
   "outputs": [
    {
     "name": "stdout",
     "output_type": "stream",
     "text": [
      "Cloning into 'categorize_ethnicity'...\n",
      "remote: Enumerating objects: 97645, done.\u001b[K\n",
      "remote: Counting objects: 100% (25/25), done.\u001b[K\n",
      "remote: Compressing objects: 100% (21/21), done.\u001b[K\n",
      "remote: Total 97645 (delta 4), reused 25 (delta 4), pack-reused 97620\u001b[K\n",
      "Receiving objects: 100% (97645/97645), 537.43 MiB | 17.62 MiB/s, done.\n",
      "Resolving deltas: 100% (50/50), done.\n",
      "Updating files: 100% (115707/115707), done.\n"
     ]
    }
   ],
   "source": [
    "! git clone https://github.com/joshuaaduarte/categorize_ethnicity.git"
   ]
  },
  {
   "cell_type": "code",
   "execution_count": null,
   "metadata": {
    "id": "cP482puY18-2"
   },
   "outputs": [],
   "source": [
    "# import the libraries as shown below\n",
    "from tensorflow.keras.layers import Input, Lambda, Dense, Flatten\n",
    "from tensorflow.keras.models import Model\n",
    "from tensorflow.keras.applications.resnet50 import ResNet50\n",
    "from keras.applications.vgg16 import VGG16\n",
    "from tensorflow.keras.applications.resnet50 import preprocess_input\n",
    "from tensorflow.keras.preprocessing import image\n",
    "from tensorflow.keras.preprocessing.image import ImageDataGenerator,load_img\n",
    "from tensorflow.keras.models import Sequential\n",
    "import numpy as np\n",
    "from glob import glob\n",
    "import matplotlib.pyplot as plt"
   ]
  },
  {
   "cell_type": "code",
   "execution_count": null,
   "metadata": {
    "colab": {
     "base_uri": "https://localhost:8080/"
    },
    "id": "-tb0WA42L2Yd",
    "outputId": "f2b91d9e-baf5-487f-eb4d-cd5191abef42"
   },
   "outputs": [
    {
     "name": "stdout",
     "output_type": "stream",
     "text": [
      "2.12.0\n"
     ]
    }
   ],
   "source": [
    "import tensorflow as tf\n",
    "print(tf.__version__)"
   ]
  },
  {
   "cell_type": "code",
   "execution_count": null,
   "metadata": {
    "id": "mV8MTjM73LSz"
   },
   "outputs": [],
   "source": [
    "# change the paths with respect to the local computer path for Josh\n",
    "IMAGE_SIZE = [224,224]\n",
    "train_path = \"/content/categorize_ethnicity/train_raw\"\n",
    "test_path = \"/content/categorize_ethnicity/val_raw\""
   ]
  },
  {
   "cell_type": "code",
   "execution_count": null,
   "metadata": {
    "id": "x6uota6q3S3_"
   },
   "outputs": [],
   "source": [
    "folders = glob('/content/categorize_ethnicity/train_raw/*')"
   ]
  },
  {
   "cell_type": "code",
   "execution_count": null,
   "metadata": {
    "colab": {
     "base_uri": "https://localhost:8080/"
    },
    "id": "qnr8otVt3U3Y",
    "outputId": "15032f97-6b00-48cb-ef54-22b806b40c13"
   },
   "outputs": [
    {
     "data": {
      "text/plain": [
       "['/content/categorize_ethnicity/train_raw/Latino_Hispanic',\n",
       " '/content/categorize_ethnicity/train_raw/White',\n",
       " '/content/categorize_ethnicity/train_raw/Middle Eastern',\n",
       " '/content/categorize_ethnicity/train_raw/Black',\n",
       " '/content/categorize_ethnicity/train_raw/East Asian',\n",
       " '/content/categorize_ethnicity/train_raw/Indian',\n",
       " '/content/categorize_ethnicity/train_raw/Southeast Asian']"
      ]
     },
     "execution_count": 9,
     "metadata": {},
     "output_type": "execute_result"
    }
   ],
   "source": [
    "folders"
   ]
  },
  {
   "cell_type": "code",
   "execution_count": null,
   "metadata": {
    "colab": {
     "base_uri": "https://localhost:8080/"
    },
    "id": "etL9-y8F3j_-",
    "outputId": "468f1854-d942-496c-e10b-5a1721f5bf68"
   },
   "outputs": [
    {
     "data": {
      "text/plain": [
       "7"
      ]
     },
     "execution_count": 10,
     "metadata": {},
     "output_type": "execute_result"
    }
   ],
   "source": [
    "len(folders)"
   ]
  },
  {
   "cell_type": "code",
   "execution_count": null,
   "metadata": {
    "id": "6gOr4phw497D"
   },
   "outputs": [],
   "source": [
    "IMG_SIZE = 224\n",
    "CHANNELS = 3\n",
    "NUM_CLASSES = 7\n",
    "BATCH_SIZE = 32"
   ]
  },
  {
   "cell_type": "code",
   "execution_count": null,
   "metadata": {
    "id": "FAOLL2YLyoSw"
   },
   "outputs": [],
   "source": [
    "from tensorflow.keras.layers import Conv2D, MaxPooling2D, ZeroPadding2D, Flatten, Dropout, Activation\n",
    "VGGFace = Sequential()\n",
    "\n",
    "VGGFace.add(ZeroPadding2D(input_shape = (IMG_SIZE, IMG_SIZE, CHANNELS)))\n",
    "VGGFace.add(Conv2D(64, (3, 3), activation = 'relu'))\n",
    "VGGFace.add(ZeroPadding2D())\n",
    "VGGFace.add(Conv2D(64, (3, 3), activation = 'relu'))\n",
    "VGGFace.add(MaxPooling2D((2, 2), strides = 2))\n",
    "\n",
    "VGGFace.add(ZeroPadding2D())\n",
    "VGGFace.add(Conv2D(128, (3, 3), activation = 'relu'))\n",
    "VGGFace.add(ZeroPadding2D())\n",
    "VGGFace.add(Conv2D(128, (3, 3), activation = 'relu'))\n",
    "VGGFace.add(MaxPooling2D((2, 2), strides = 2))\n",
    "\n",
    "VGGFace.add(ZeroPadding2D())\n",
    "VGGFace.add(Conv2D(256, (3, 3), activation = 'relu'))\n",
    "VGGFace.add(ZeroPadding2D())\n",
    "VGGFace.add(Conv2D(256, (3, 3), activation = 'relu'))\n",
    "VGGFace.add(ZeroPadding2D())\n",
    "VGGFace.add(Conv2D(256, (3, 3), activation = 'relu'))\n",
    "VGGFace.add(MaxPooling2D((2, 2), strides = 2))\n",
    "\n",
    "VGGFace.add(ZeroPadding2D())\n",
    "VGGFace.add(Conv2D(512, (3, 3), activation = 'relu'))\n",
    "VGGFace.add(ZeroPadding2D())\n",
    "VGGFace.add(Conv2D(512, (3, 3), activation = 'relu'))\n",
    "VGGFace.add(ZeroPadding2D())\n",
    "VGGFace.add(Conv2D(512, (3, 3), activation = 'relu'))\n",
    "VGGFace.add(MaxPooling2D((2, 2), strides = 2))\n",
    "\n",
    "VGGFace.add(ZeroPadding2D())\n",
    "VGGFace.add(Conv2D(512, (3, 3), activation = 'relu'))\n",
    "VGGFace.add(ZeroPadding2D())\n",
    "VGGFace.add(Conv2D(512, (3, 3), activation = 'relu'))\n",
    "VGGFace.add(ZeroPadding2D())\n",
    "VGGFace.add(Conv2D(512, (3, 3), activation = 'relu'))\n",
    "VGGFace.add(MaxPooling2D((2, 2), strides = 2))\n",
    "\n",
    "VGGFace.add(Conv2D(4096, (7, 7), activation = 'relu'))\n",
    "VGGFace.add(Dropout(0.5))\n",
    "\n",
    "VGGFace.add(Conv2D(4096, (1, 1), activation = 'relu'))\n",
    "VGGFace.add(Dropout(0.5))\n",
    "\n",
    "VGGFace.add(Conv2D(2622, (1, 1)))\n",
    "VGGFace.add(Flatten())\n",
    "VGGFace.add(Activation('softmax'))\n",
    "\n",
    "VGGFace.load_weights('/content/gdrive/MyDrive/DataScience_Project/categorize_ethnicity/vgg_face_weights.h5')\n",
    "\n",
    "VGGFace.pop()\n",
    "VGGFace.pop()\n",
    "VGGFace.pop()\n",
    "\n",
    "model = Sequential()\n",
    "\n",
    "model.add(VGGFace)\n",
    "model.add(Conv2D(NUM_CLASSES, (1, 1)))\n",
    "model.add(Flatten())\n",
    "model.add(Activation('softmax'))\n",
    "\n",
    "model.layers[0].trainable = False\n",
    "\n"
   ]
  },
  {
   "cell_type": "code",
   "execution_count": null,
   "metadata": {
    "colab": {
     "base_uri": "https://localhost:8080/"
    },
    "id": "Do9Y-8j2L5su",
    "outputId": "6cb565b5-51f9-4008-b17a-c16e025cb640"
   },
   "outputs": [
    {
     "name": "stdout",
     "output_type": "stream",
     "text": [
      "Model: \"sequential_1\"\n",
      "_________________________________________________________________\n",
      " Layer (type)                Output Shape              Param #   \n",
      "=================================================================\n",
      " sequential (Sequential)     (None, 1, 1, 4096)        134260544 \n",
      "                                                                 \n",
      " conv2d_16 (Conv2D)          (None, 1, 1, 7)           28679     \n",
      "                                                                 \n",
      " flatten_1 (Flatten)         (None, 7)                 0         \n",
      "                                                                 \n",
      " activation_1 (Activation)   (None, 7)                 0         \n",
      "                                                                 \n",
      "=================================================================\n",
      "Total params: 134,289,223\n",
      "Trainable params: 28,679\n",
      "Non-trainable params: 134,260,544\n",
      "_________________________________________________________________\n"
     ]
    }
   ],
   "source": [
    "model.summary()"
   ]
  },
  {
   "cell_type": "code",
   "execution_count": null,
   "metadata": {
    "id": "4bko8rZb3sv6"
   },
   "outputs": [],
   "source": [
    "from tensorflow.keras.optimizers import Adam\n",
    "from tensorflow.keras.callbacks import EarlyStopping, ReduceLROnPlateau\n",
    "# opt = Adam\n",
    "# model.compile(optimizer=opt, loss='categorical_crossentropy', metrics=['accuracy'])\n"
   ]
  },
  {
   "cell_type": "code",
   "execution_count": null,
   "metadata": {
    "id": "_2PWYlVkNm1N"
   },
   "outputs": [],
   "source": [
    "model.compile(\n",
    "  loss='categorical_crossentropy',\n",
    "  optimizer='adam',\n",
    "  metrics=['accuracy']\n",
    ")"
   ]
  },
  {
   "cell_type": "code",
   "execution_count": null,
   "metadata": {
    "id": "lR6gU37O3ubp"
   },
   "outputs": [],
   "source": [
    "# from tensorflow.keras.preprocessing.image import ImageDataGenerator\n",
    "\n",
    "# train_datagen = ImageDataGenerator(rescale = 1./255,\n",
    "#                                    horizontal_flip = True)\n",
    "\n",
    "# test_datagen = ImageDataGenerator(rescale = 1./255)"
   ]
  },
  {
   "cell_type": "code",
   "execution_count": null,
   "metadata": {
    "id": "uzybzLkPL_NU"
   },
   "outputs": [],
   "source": [
    "from tensorflow.keras.preprocessing.image import ImageDataGenerator\n",
    "\n",
    "train_datagen = ImageDataGenerator(rescale = 1./255,\n",
    "                                   shear_range = 0.2,\n",
    "                                   rotation_range=2,\n",
    "                                   zoom_range = 0.2,\n",
    "                                   horizontal_flip = True)\n",
    "\n",
    "test_datagen = ImageDataGenerator(rescale = 1./255)"
   ]
  },
  {
   "cell_type": "code",
   "execution_count": null,
   "metadata": {
    "colab": {
     "base_uri": "https://localhost:8080/"
    },
    "id": "R8EX4muX3xot",
    "outputId": "0771576f-4032-4f2c-f8b0-f7b105d53a74"
   },
   "outputs": [
    {
     "name": "stdout",
     "output_type": "stream",
     "text": [
      "Found 86744 images belonging to 7 classes.\n"
     ]
    }
   ],
   "source": [
    "# Make sure you provide the same target size as initialied for the image size\n",
    "training_set = train_datagen.flow_from_directory(train_path,\n",
    "                                                 target_size = (224, 224),\n",
    "                                                 \n",
    "                                                 class_mode = 'categorical')"
   ]
  },
  {
   "cell_type": "code",
   "execution_count": null,
   "metadata": {
    "colab": {
     "base_uri": "https://localhost:8080/"
    },
    "id": "DvTrYL1430HR",
    "outputId": "ef4995e0-207c-438f-8113-59e09c1a823b"
   },
   "outputs": [
    {
     "name": "stdout",
     "output_type": "stream",
     "text": [
      "Found 10954 images belonging to 7 classes.\n"
     ]
    }
   ],
   "source": [
    "test_set = test_datagen.flow_from_directory(test_path,\n",
    "                                            target_size = (224, 224),\n",
    "                                            \n",
    "                                            class_mode = 'categorical')"
   ]
  },
  {
   "cell_type": "code",
   "execution_count": null,
   "metadata": {
    "id": "HpcyM3W9M3sV"
   },
   "outputs": [],
   "source": [
    "early_stop = EarlyStopping(patience=5, verbose=1, restore_best_weights=True)\n",
    "reduce_lr = ReduceLROnPlateau(factor=0.2, patience=3, verbose=1, min_lr=0.0001)"
   ]
  },
  {
   "cell_type": "code",
   "execution_count": null,
   "metadata": {
    "colab": {
     "base_uri": "https://localhost:8080/"
    },
    "id": "LtVejiPLM68B",
    "outputId": "aa90cea4-c85a-467f-a0c1-244770986f23"
   },
   "outputs": [
    {
     "name": "stdout",
     "output_type": "stream",
     "text": [
      "Epoch 1/10\n",
      "85/85 [==============================] - 54s 478ms/step - loss: 1.8868 - accuracy: 0.2971 - val_loss: 1.8362 - val_accuracy: 0.3750 - lr: 0.0010\n",
      "Epoch 2/10\n",
      "85/85 [==============================] - 40s 464ms/step - loss: 1.7918 - accuracy: 0.3710 - val_loss: 1.7663 - val_accuracy: 0.3949 - lr: 0.0010\n",
      "Epoch 3/10\n",
      "85/85 [==============================] - 40s 473ms/step - loss: 1.7068 - accuracy: 0.4471 - val_loss: 1.6736 - val_accuracy: 0.4176 - lr: 0.0010\n",
      "Epoch 4/10\n",
      "85/85 [==============================] - 40s 472ms/step - loss: 1.6549 - accuracy: 0.4533 - val_loss: 1.6204 - val_accuracy: 0.4972 - lr: 0.0010\n",
      "Epoch 5/10\n",
      "85/85 [==============================] - 40s 472ms/step - loss: 1.6053 - accuracy: 0.4743 - val_loss: 1.6111 - val_accuracy: 0.4744 - lr: 0.0010\n",
      "Epoch 6/10\n",
      "85/85 [==============================] - 40s 469ms/step - loss: 1.5590 - accuracy: 0.4812 - val_loss: 1.5374 - val_accuracy: 0.5028 - lr: 0.0010\n",
      "Epoch 7/10\n",
      "85/85 [==============================] - 39s 452ms/step - loss: 1.5268 - accuracy: 0.5055 - val_loss: 1.5377 - val_accuracy: 0.4830 - lr: 0.0010\n",
      "Epoch 8/10\n",
      "85/85 [==============================] - 39s 455ms/step - loss: 1.4649 - accuracy: 0.5239 - val_loss: 1.4874 - val_accuracy: 0.5170 - lr: 0.0010\n",
      "Epoch 9/10\n",
      "85/85 [==============================] - 39s 462ms/step - loss: 1.4768 - accuracy: 0.4901 - val_loss: 1.4663 - val_accuracy: 0.5000 - lr: 0.0010\n",
      "Epoch 10/10\n",
      "85/85 [==============================] - 40s 463ms/step - loss: 1.4384 - accuracy: 0.5140 - val_loss: 1.4227 - val_accuracy: 0.5142 - lr: 0.0010\n"
     ]
    }
   ],
   "source": [
    "# fit the model\n",
    "# Run the cell. It will take some time to execute\n",
    "r = model.fit(\n",
    "  training_set,\n",
    "  validation_data=test_set,\n",
    "  epochs=10,\n",
    "  steps_per_epoch=len(training_set)// BATCH_SIZE + 1,\n",
    "  validation_steps=len(test_set)// BATCH_SIZE + 1,\n",
    "  callbacks = [early_stop, reduce_lr]\n",
    ")"
   ]
  },
  {
   "cell_type": "code",
   "execution_count": null,
   "metadata": {
    "colab": {
     "base_uri": "https://localhost:8080/"
    },
    "id": "MqWTT4W-KyiO",
    "outputId": "acd45096-0de9-4250-8275-01e6d1fc2764"
   },
   "outputs": [
    {
     "name": "stdout",
     "output_type": "stream",
     "text": [
      "Epoch 1/50\n",
      "85/85 [==============================] - 40s 470ms/step - loss: 1.3142 - accuracy: 0.5375 - val_loss: 1.2876 - val_accuracy: 0.5710 - lr: 1.0000e-04\n",
      "Epoch 2/50\n",
      "85/85 [==============================] - 39s 459ms/step - loss: 1.2990 - accuracy: 0.5566 - val_loss: 1.3684 - val_accuracy: 0.5341 - lr: 1.0000e-04\n",
      "Epoch 3/50\n",
      "85/85 [==============================] - 39s 458ms/step - loss: 1.3228 - accuracy: 0.5324 - val_loss: 1.3288 - val_accuracy: 0.5540 - lr: 1.0000e-04\n",
      "Epoch 4/50\n",
      "85/85 [==============================] - 39s 457ms/step - loss: 1.3386 - accuracy: 0.5265 - val_loss: 1.3210 - val_accuracy: 0.5398 - lr: 1.0000e-04\n",
      "Epoch 5/50\n",
      "85/85 [==============================] - 38s 451ms/step - loss: 1.3380 - accuracy: 0.5191 - val_loss: 1.3652 - val_accuracy: 0.5000 - lr: 1.0000e-04\n",
      "Epoch 6/50\n",
      "85/85 [==============================] - 39s 455ms/step - loss: 1.3195 - accuracy: 0.5404 - val_loss: 1.3132 - val_accuracy: 0.5540 - lr: 1.0000e-04\n",
      "Epoch 7/50\n",
      "85/85 [==============================] - 39s 452ms/step - loss: 1.3408 - accuracy: 0.5191 - val_loss: 1.3416 - val_accuracy: 0.5284 - lr: 1.0000e-04\n",
      "Epoch 8/50\n",
      "85/85 [==============================] - 39s 454ms/step - loss: 1.3218 - accuracy: 0.5386 - val_loss: 1.2989 - val_accuracy: 0.5426 - lr: 1.0000e-04\n",
      "Epoch 9/50\n",
      "85/85 [==============================] - 38s 445ms/step - loss: 1.3148 - accuracy: 0.5309 - val_loss: 1.2441 - val_accuracy: 0.5966 - lr: 1.0000e-04\n",
      "Epoch 10/50\n",
      "85/85 [==============================] - 38s 450ms/step - loss: 1.3022 - accuracy: 0.5511 - val_loss: 1.2955 - val_accuracy: 0.5795 - lr: 1.0000e-04\n",
      "Epoch 11/50\n",
      "85/85 [==============================] - 38s 445ms/step - loss: 1.3248 - accuracy: 0.5335 - val_loss: 1.3167 - val_accuracy: 0.5170 - lr: 1.0000e-04\n",
      "Epoch 12/50\n",
      "85/85 [==============================] - 39s 452ms/step - loss: 1.3264 - accuracy: 0.5393 - val_loss: 1.2951 - val_accuracy: 0.5511 - lr: 1.0000e-04\n",
      "Epoch 13/50\n",
      "85/85 [==============================] - 40s 467ms/step - loss: 1.3414 - accuracy: 0.5188 - val_loss: 1.3163 - val_accuracy: 0.5597 - lr: 1.0000e-04\n",
      "Epoch 14/50\n",
      "85/85 [==============================] - 40s 468ms/step - loss: 1.3415 - accuracy: 0.5298 - val_loss: 1.3352 - val_accuracy: 0.5426 - lr: 1.0000e-04\n",
      "Epoch 15/50\n",
      "85/85 [==============================] - 39s 463ms/step - loss: 1.3207 - accuracy: 0.5294 - val_loss: 1.3107 - val_accuracy: 0.5369 - lr: 1.0000e-04\n",
      "Epoch 16/50\n",
      "85/85 [==============================] - 39s 453ms/step - loss: 1.3192 - accuracy: 0.5327 - val_loss: 1.3616 - val_accuracy: 0.5057 - lr: 1.0000e-04\n",
      "Epoch 17/50\n",
      "85/85 [==============================] - 39s 452ms/step - loss: 1.3093 - accuracy: 0.5324 - val_loss: 1.3345 - val_accuracy: 0.5682 - lr: 1.0000e-04\n",
      "Epoch 18/50\n",
      "85/85 [==============================] - 39s 452ms/step - loss: 1.3179 - accuracy: 0.5382 - val_loss: 1.2728 - val_accuracy: 0.5795 - lr: 1.0000e-04\n",
      "Epoch 19/50\n",
      "85/85 [==============================] - 43s 502ms/step - loss: 1.3269 - accuracy: 0.5261 - val_loss: 1.3403 - val_accuracy: 0.5540 - lr: 1.0000e-04\n",
      "Epoch 20/50\n",
      "85/85 [==============================] - 38s 451ms/step - loss: 1.3129 - accuracy: 0.5324 - val_loss: 1.3050 - val_accuracy: 0.5653 - lr: 1.0000e-04\n",
      "Epoch 21/50\n",
      "85/85 [==============================] - 39s 450ms/step - loss: 1.3162 - accuracy: 0.5349 - val_loss: 1.3085 - val_accuracy: 0.5540 - lr: 1.0000e-04\n",
      "Epoch 22/50\n",
      "85/85 [==============================] - 39s 452ms/step - loss: 1.3335 - accuracy: 0.5305 - val_loss: 1.2637 - val_accuracy: 0.6108 - lr: 1.0000e-04\n",
      "Epoch 23/50\n",
      "85/85 [==============================] - 40s 465ms/step - loss: 1.2880 - accuracy: 0.5555 - val_loss: 1.2927 - val_accuracy: 0.5511 - lr: 1.0000e-04\n",
      "Epoch 24/50\n",
      "85/85 [==============================] - 39s 459ms/step - loss: 1.3123 - accuracy: 0.5290 - val_loss: 1.3342 - val_accuracy: 0.5085 - lr: 1.0000e-04\n",
      "Epoch 25/50\n",
      "85/85 [==============================] - 39s 454ms/step - loss: 1.3161 - accuracy: 0.5228 - val_loss: 1.3094 - val_accuracy: 0.5568 - lr: 1.0000e-04\n",
      "Epoch 26/50\n",
      "85/85 [==============================] - 38s 450ms/step - loss: 1.3246 - accuracy: 0.5327 - val_loss: 1.3760 - val_accuracy: 0.5312 - lr: 1.0000e-04\n",
      "Epoch 27/50\n",
      "85/85 [==============================] - 38s 449ms/step - loss: 1.3005 - accuracy: 0.5504 - val_loss: 1.2954 - val_accuracy: 0.5625 - lr: 1.0000e-04\n",
      "Epoch 28/50\n",
      "85/85 [==============================] - 39s 453ms/step - loss: 1.3274 - accuracy: 0.5335 - val_loss: 1.3030 - val_accuracy: 0.5426 - lr: 1.0000e-04\n",
      "Epoch 29/50\n",
      "85/85 [==============================] - 39s 458ms/step - loss: 1.3156 - accuracy: 0.5298 - val_loss: 1.2877 - val_accuracy: 0.5597 - lr: 1.0000e-04\n",
      "Epoch 30/50\n",
      "85/85 [==============================] - 40s 470ms/step - loss: 1.3162 - accuracy: 0.5224 - val_loss: 1.2709 - val_accuracy: 0.5795 - lr: 1.0000e-04\n",
      "Epoch 31/50\n",
      "85/85 [==============================] - 39s 457ms/step - loss: 1.3195 - accuracy: 0.5272 - val_loss: 1.3141 - val_accuracy: 0.5398 - lr: 1.0000e-04\n",
      "Epoch 32/50\n",
      "85/85 [==============================] - 39s 453ms/step - loss: 1.2982 - accuracy: 0.5452 - val_loss: 1.3000 - val_accuracy: 0.5653 - lr: 1.0000e-04\n",
      "Epoch 33/50\n",
      "85/85 [==============================] - 38s 450ms/step - loss: 1.2976 - accuracy: 0.5327 - val_loss: 1.2418 - val_accuracy: 0.6108 - lr: 1.0000e-04\n",
      "Epoch 34/50\n",
      "85/85 [==============================] - 38s 444ms/step - loss: 1.3270 - accuracy: 0.5276 - val_loss: 1.3156 - val_accuracy: 0.5369 - lr: 1.0000e-04\n",
      "Epoch 35/50\n",
      "85/85 [==============================] - 39s 455ms/step - loss: 1.3007 - accuracy: 0.5404 - val_loss: 1.2828 - val_accuracy: 0.5739 - lr: 1.0000e-04\n",
      "Epoch 36/50\n",
      "85/85 [==============================] - 39s 462ms/step - loss: 1.2701 - accuracy: 0.5559 - val_loss: 1.3854 - val_accuracy: 0.4688 - lr: 1.0000e-04\n",
      "Epoch 37/50\n",
      "85/85 [==============================] - 39s 458ms/step - loss: 1.2923 - accuracy: 0.5312 - val_loss: 1.3228 - val_accuracy: 0.4830 - lr: 1.0000e-04\n",
      "Epoch 38/50\n",
      "85/85 [==============================] - 40s 465ms/step - loss: 1.3078 - accuracy: 0.5419 - val_loss: 1.2410 - val_accuracy: 0.6023 - lr: 1.0000e-04\n",
      "Epoch 39/50\n",
      "85/85 [==============================] - 39s 462ms/step - loss: 1.3068 - accuracy: 0.5316 - val_loss: 1.2407 - val_accuracy: 0.5938 - lr: 1.0000e-04\n",
      "Epoch 40/50\n",
      "85/85 [==============================] - 38s 451ms/step - loss: 1.3045 - accuracy: 0.5235 - val_loss: 1.2857 - val_accuracy: 0.5597 - lr: 1.0000e-04\n",
      "Epoch 41/50\n",
      "85/85 [==============================] - 39s 460ms/step - loss: 1.3261 - accuracy: 0.5180 - val_loss: 1.2778 - val_accuracy: 0.5852 - lr: 1.0000e-04\n",
      "Epoch 42/50\n",
      "85/85 [==============================] - 39s 463ms/step - loss: 1.2866 - accuracy: 0.5305 - val_loss: 1.3222 - val_accuracy: 0.5597 - lr: 1.0000e-04\n",
      "Epoch 43/50\n",
      "85/85 [==============================] - 39s 461ms/step - loss: 1.3027 - accuracy: 0.5452 - val_loss: 1.2917 - val_accuracy: 0.5767 - lr: 1.0000e-04\n",
      "Epoch 44/50\n",
      "85/85 [==============================] - 39s 461ms/step - loss: 1.2851 - accuracy: 0.5408 - val_loss: 1.2794 - val_accuracy: 0.5540 - lr: 1.0000e-04\n",
      "Epoch 45/50\n",
      "85/85 [==============================] - 38s 451ms/step - loss: 1.2774 - accuracy: 0.5382 - val_loss: 1.3158 - val_accuracy: 0.5284 - lr: 1.0000e-04\n",
      "Epoch 46/50\n",
      "85/85 [==============================] - 38s 448ms/step - loss: 1.2880 - accuracy: 0.5441 - val_loss: 1.2656 - val_accuracy: 0.5682 - lr: 1.0000e-04\n",
      "Epoch 47/50\n",
      "85/85 [==============================] - 38s 450ms/step - loss: 1.2712 - accuracy: 0.5599 - val_loss: 1.3180 - val_accuracy: 0.5682 - lr: 1.0000e-04\n",
      "Epoch 48/50\n",
      "85/85 [==============================] - 39s 453ms/step - loss: 1.2951 - accuracy: 0.5423 - val_loss: 1.2257 - val_accuracy: 0.6051 - lr: 1.0000e-04\n",
      "Epoch 49/50\n",
      "85/85 [==============================] - 39s 457ms/step - loss: 1.2956 - accuracy: 0.5437 - val_loss: 1.2982 - val_accuracy: 0.5597 - lr: 1.0000e-04\n",
      "Epoch 50/50\n",
      "85/85 [==============================] - 39s 463ms/step - loss: 1.2910 - accuracy: 0.5386 - val_loss: 1.2715 - val_accuracy: 0.5653 - lr: 1.0000e-04\n"
     ]
    }
   ],
   "source": [
    "# fit the model\n",
    "# Run the cell. It will take some time to execute\n",
    "r = model.fit(\n",
    "  training_set,\n",
    "  validation_data=test_set,\n",
    "  epochs=50,\n",
    "  steps_per_epoch=len(training_set)// BATCH_SIZE + 1,\n",
    "  validation_steps=len(test_set)// BATCH_SIZE + 1,\n",
    "  callbacks = [reduce_lr]\n",
    ")\n"
   ]
  },
  {
   "cell_type": "code",
   "execution_count": null,
   "metadata": {
    "colab": {
     "base_uri": "https://localhost:8080/"
    },
    "id": "yBxUAvIYl1O7",
    "outputId": "2aca4039-7eaa-4908-ac76-b5deed2c5c0f"
   },
   "outputs": [
    {
     "name": "stdout",
     "output_type": "stream",
     "text": [
      "Epoch 1/50\n",
      "14/14 [==============================] - 7s 489ms/step - loss: 1.7005 - accuracy: 0.5045 - val_loss: 1.7098 - val_accuracy: 0.4531\n",
      "Epoch 2/50\n",
      "14/14 [==============================] - 8s 545ms/step - loss: 1.7113 - accuracy: 0.4888 - val_loss: 1.7583 - val_accuracy: 0.4219\n",
      "Epoch 3/50\n",
      "14/14 [==============================] - 8s 554ms/step - loss: 1.7015 - accuracy: 0.5000 - val_loss: 1.7184 - val_accuracy: 0.5156\n",
      "Epoch 4/50\n",
      "14/14 [==============================] - 7s 477ms/step - loss: 1.7033 - accuracy: 0.4799 - val_loss: 1.7324 - val_accuracy: 0.4844\n",
      "Epoch 5/50\n",
      "14/14 [==============================] - 9s 620ms/step - loss: 1.6630 - accuracy: 0.5134 - val_loss: 1.6830 - val_accuracy: 0.4922\n",
      "Epoch 6/50\n",
      "14/14 [==============================] - 7s 482ms/step - loss: 1.6769 - accuracy: 0.5179 - val_loss: 1.6560 - val_accuracy: 0.5625\n",
      "Epoch 7/50\n",
      "14/14 [==============================] - 11s 769ms/step - loss: 1.6521 - accuracy: 0.4911 - val_loss: 1.6821 - val_accuracy: 0.4609\n",
      "Epoch 8/50\n",
      "14/14 [==============================] - 7s 476ms/step - loss: 1.6319 - accuracy: 0.5379 - val_loss: 1.6215 - val_accuracy: 0.5781\n",
      "Epoch 9/50\n",
      "14/14 [==============================] - 9s 637ms/step - loss: 1.6299 - accuracy: 0.5156 - val_loss: 1.6567 - val_accuracy: 0.5469\n",
      "Epoch 10/50\n",
      "14/14 [==============================] - 7s 483ms/step - loss: 1.6232 - accuracy: 0.4732 - val_loss: 1.6357 - val_accuracy: 0.5312\n",
      "Epoch 11/50\n",
      "14/14 [==============================] - 8s 536ms/step - loss: 1.6122 - accuracy: 0.5312 - val_loss: 1.6530 - val_accuracy: 0.5000\n",
      "Epoch 12/50\n",
      "14/14 [==============================] - 8s 567ms/step - loss: 1.6394 - accuracy: 0.4710 - val_loss: 1.6209 - val_accuracy: 0.5469\n",
      "Epoch 13/50\n",
      "14/14 [==============================] - 7s 519ms/step - loss: 1.6075 - accuracy: 0.5223 - val_loss: 1.5925 - val_accuracy: 0.5156\n",
      "Epoch 14/50\n",
      "14/14 [==============================] - 7s 497ms/step - loss: 1.5993 - accuracy: 0.4754 - val_loss: 1.6336 - val_accuracy: 0.4609\n",
      "Epoch 15/50\n",
      "14/14 [==============================] - 7s 479ms/step - loss: 1.5889 - accuracy: 0.4933 - val_loss: 1.6114 - val_accuracy: 0.5625\n",
      "Epoch 16/50\n",
      "14/14 [==============================] - 9s 630ms/step - loss: 1.5763 - accuracy: 0.5424 - val_loss: 1.6078 - val_accuracy: 0.5000\n",
      "Epoch 17/50\n",
      "14/14 [==============================] - 7s 511ms/step - loss: 1.5717 - accuracy: 0.5268 - val_loss: 1.6162 - val_accuracy: 0.4844\n",
      "Epoch 18/50\n",
      "14/14 [==============================] - 8s 596ms/step - loss: 1.5895 - accuracy: 0.4866 - val_loss: 1.5694 - val_accuracy: 0.5391\n",
      "Epoch 19/50\n",
      "14/14 [==============================] - 7s 497ms/step - loss: 1.5424 - accuracy: 0.5223 - val_loss: 1.6119 - val_accuracy: 0.4766\n",
      "Epoch 20/50\n",
      "14/14 [==============================] - 9s 633ms/step - loss: 1.5420 - accuracy: 0.5045 - val_loss: 1.5324 - val_accuracy: 0.6328\n",
      "Epoch 21/50\n",
      "14/14 [==============================] - 7s 482ms/step - loss: 1.5052 - accuracy: 0.5625 - val_loss: 1.5810 - val_accuracy: 0.5078\n",
      "Epoch 22/50\n",
      "14/14 [==============================] - 9s 626ms/step - loss: 1.5180 - accuracy: 0.5402 - val_loss: 1.4957 - val_accuracy: 0.5547\n",
      "Epoch 23/50\n",
      "14/14 [==============================] - 7s 480ms/step - loss: 1.5331 - accuracy: 0.5000 - val_loss: 1.4922 - val_accuracy: 0.5391\n",
      "Epoch 24/50\n",
      "14/14 [==============================] - 9s 646ms/step - loss: 1.5079 - accuracy: 0.4955 - val_loss: 1.5473 - val_accuracy: 0.5547\n",
      "Epoch 25/50\n",
      "14/14 [==============================] - 7s 477ms/step - loss: 1.5152 - accuracy: 0.5067 - val_loss: 1.5560 - val_accuracy: 0.5156\n",
      "Epoch 26/50\n",
      "14/14 [==============================] - 9s 640ms/step - loss: 1.5104 - accuracy: 0.5089 - val_loss: 1.5093 - val_accuracy: 0.4844\n",
      "Epoch 27/50\n",
      "14/14 [==============================] - 7s 482ms/step - loss: 1.4989 - accuracy: 0.5357 - val_loss: 1.5180 - val_accuracy: 0.5703\n",
      "Epoch 28/50\n",
      "14/14 [==============================] - 8s 549ms/step - loss: 1.5429 - accuracy: 0.4888 - val_loss: 1.5106 - val_accuracy: 0.4844\n",
      "Epoch 29/50\n",
      "14/14 [==============================] - 8s 546ms/step - loss: 1.5157 - accuracy: 0.4888 - val_loss: 1.5635 - val_accuracy: 0.4844\n",
      "Epoch 30/50\n",
      "14/14 [==============================] - 8s 550ms/step - loss: 1.5235 - accuracy: 0.4844 - val_loss: 1.5294 - val_accuracy: 0.5156\n",
      "Epoch 31/50\n",
      "14/14 [==============================] - 8s 557ms/step - loss: 1.4946 - accuracy: 0.5179 - val_loss: 1.5021 - val_accuracy: 0.5078\n",
      "Epoch 32/50\n",
      "14/14 [==============================] - 7s 480ms/step - loss: 1.4768 - accuracy: 0.5357 - val_loss: 1.5276 - val_accuracy: 0.5000\n",
      "Epoch 33/50\n",
      "14/14 [==============================] - 9s 625ms/step - loss: 1.4922 - accuracy: 0.5290 - val_loss: 1.5089 - val_accuracy: 0.5000\n",
      "Epoch 34/50\n",
      "14/14 [==============================] - 7s 484ms/step - loss: 1.4686 - accuracy: 0.5580 - val_loss: 1.4260 - val_accuracy: 0.6172\n",
      "Epoch 35/50\n",
      "14/14 [==============================] - 9s 643ms/step - loss: 1.5152 - accuracy: 0.5022 - val_loss: 1.4549 - val_accuracy: 0.5234\n",
      "Epoch 36/50\n",
      "14/14 [==============================] - 7s 480ms/step - loss: 1.4698 - accuracy: 0.5156 - val_loss: 1.4809 - val_accuracy: 0.6172\n",
      "Epoch 37/50\n",
      "14/14 [==============================] - 9s 633ms/step - loss: 1.4788 - accuracy: 0.5112 - val_loss: 1.4822 - val_accuracy: 0.4922\n",
      "Epoch 38/50\n",
      "14/14 [==============================] - 7s 477ms/step - loss: 1.4788 - accuracy: 0.4955 - val_loss: 1.4091 - val_accuracy: 0.6172\n",
      "Epoch 39/50\n",
      "14/14 [==============================] - 9s 616ms/step - loss: 1.4072 - accuracy: 0.5603 - val_loss: 1.4369 - val_accuracy: 0.5781\n",
      "Epoch 40/50\n",
      "14/14 [==============================] - 7s 489ms/step - loss: 1.4372 - accuracy: 0.5402 - val_loss: 1.4705 - val_accuracy: 0.5781\n",
      "Epoch 41/50\n",
      "14/14 [==============================] - 8s 548ms/step - loss: 1.4735 - accuracy: 0.4732 - val_loss: 1.4686 - val_accuracy: 0.5391\n",
      "Epoch 42/50\n",
      "14/14 [==============================] - 7s 476ms/step - loss: 1.4318 - accuracy: 0.5201 - val_loss: 1.4332 - val_accuracy: 0.5312\n",
      "Epoch 43/50\n",
      "14/14 [==============================] - 9s 634ms/step - loss: 1.4570 - accuracy: 0.4888 - val_loss: 1.3980 - val_accuracy: 0.5312\n",
      "Epoch 44/50\n",
      "14/14 [==============================] - 7s 492ms/step - loss: 1.4424 - accuracy: 0.5357 - val_loss: 1.3573 - val_accuracy: 0.6484\n",
      "Epoch 45/50\n",
      "14/14 [==============================] - 9s 637ms/step - loss: 1.4376 - accuracy: 0.5000 - val_loss: 1.4763 - val_accuracy: 0.5234\n",
      "Epoch 46/50\n",
      "14/14 [==============================] - 7s 489ms/step - loss: 1.4029 - accuracy: 0.5290 - val_loss: 1.4611 - val_accuracy: 0.5312\n",
      "Epoch 47/50\n",
      "14/14 [==============================] - 9s 626ms/step - loss: 1.4353 - accuracy: 0.5089 - val_loss: 1.3938 - val_accuracy: 0.6094\n",
      "Epoch 48/50\n",
      "14/14 [==============================] - 7s 483ms/step - loss: 1.4176 - accuracy: 0.5312 - val_loss: 1.4583 - val_accuracy: 0.5469\n",
      "Epoch 49/50\n",
      "14/14 [==============================] - 9s 608ms/step - loss: 1.4283 - accuracy: 0.5290 - val_loss: 1.3774 - val_accuracy: 0.5703\n",
      "Epoch 50/50\n",
      "14/14 [==============================] - 7s 480ms/step - loss: 1.4261 - accuracy: 0.5134 - val_loss: 1.4842 - val_accuracy: 0.4453\n"
     ]
    }
   ],
   "source": [
    "# fit the model\n",
    "# Run the cell. It will take some time to execute\n",
    "r = model.fit(\n",
    "  training_set,\n",
    "  validation_data=test_set,\n",
    "  epochs=50,\n",
    "  steps_per_epoch=len(training_set)// BATCH_SIZE + 1,\n",
    "  validation_steps=len(test_set)// BATCH_SIZE + 1\n",
    ")"
   ]
  },
  {
   "cell_type": "code",
   "execution_count": null,
   "metadata": {
    "colab": {
     "base_uri": "https://localhost:8080/",
     "height": 860
    },
    "id": "xyztPYniKiPc",
    "outputId": "49417eb9-4fcd-4af9-8678-658d6c359257"
   },
   "outputs": [
    {
     "data": {
      "image/png": "[encoded data removed]",
      "text/plain": [
       "<Figure size 640x480 with 1 Axes>"
      ]
     },
     "metadata": {},
     "output_type": "display_data"
    },
    {
     "data": {
      "image/png": "[encoded data removed]",
      "text/plain": [
       "<Figure size 640x480 with 1 Axes>"
      ]
     },
     "metadata": {},
     "output_type": "display_data"
    },
    {
     "data": {
      "text/plain": [
       "<Figure size 640x480 with 0 Axes>"
      ]
     },
     "metadata": {},
     "output_type": "display_data"
    }
   ],
   "source": [
    "# plot the loss\n",
    "plt.plot(r.history['loss'], label='train loss')\n",
    "plt.plot(r.history['val_loss'], label='val loss')\n",
    "plt.legend()\n",
    "plt.show()\n",
    "plt.savefig('LossVal_loss')\n",
    "\n",
    "# plot the accuracy\n",
    "plt.plot(r.history['accuracy'], label='train acc')\n",
    "plt.plot(r.history['val_accuracy'], label='val acc')\n",
    "plt.legend()\n",
    "plt.show()\n",
    "plt.savefig('AccVal_acc')"
   ]
  },
  {
   "cell_type": "code",
   "execution_count": null,
   "metadata": {},
   "outputs": [],
   "source": [
    "from google.colab import drive\n",
    "\n",
    "drive.mount('/content/gdrive', force_remount=True)"
   ]
  },
  {
   "cell_type": "code",
   "execution_count": null,
   "metadata": {},
   "outputs": [],
   "source": [
    "! mkdir /content/gdrive/MyDrive/DataScience_Project/modelweights"
   ]
  },
  {
   "cell_type": "code",
   "execution_count": null,
   "metadata": {
    "id": "pywIDz5_kHtf"
   },
   "outputs": [],
   "source": [
    "# change the paths with respect to the local computer path for Josh\n",
    "! mkdir /content/gdrive/MyDrive/DataScience_Project/modelweights"
   ]
  },
  {
   "cell_type": "code",
   "execution_count": null,
   "metadata": {
    "colab": {
     "base_uri": "https://localhost:8080/"
    },
    "id": "_t8PR2nGkKJ7",
    "outputId": "5e9ea428-59b2-460b-bb61-bbafd8463828"
   },
   "outputs": [
    {
     "name": "stdout",
     "output_type": "stream",
     "text": [
      "/content/gdrive/MyDrive/DataScience_Project3\n"
     ]
    }
   ],
   "source": [
    "! cd  /content/gdrive/MyDrive/DataScience_Project/modelweights"
   ]
  },
  {
   "cell_type": "code",
   "execution_count": null,
   "metadata": {
    "colab": {
     "base_uri": "https://localhost:8080/",
     "height": 35
    },
    "id": "bD15JKChkN0v",
    "outputId": "46fbac70-88b7-4a60-df11-ceefd57d8e04"
   },
   "outputs": [
    {
     "data": {
      "application/vnd.google.colaboratory.intrinsic+json": {
       "type": "string"
      },
      "text/plain": [
       "'/content/gdrive/MyDrive/DataScience_Project3'"
      ]
     },
     "execution_count": 26,
     "metadata": {},
     "output_type": "execute_result"
    }
   ],
   "source": [
    "! pwd"
   ]
  },
  {
   "cell_type": "code",
   "execution_count": null,
   "metadata": {
    "id": "XJqcfFgtWFWw"
   },
   "outputs": [],
   "source": [
    "from tensorflow.keras.models import load_model\n",
    "model.save('model_vggface50raw.h5')"
   ]
  }
 ],
 "metadata": {
  "accelerator": "GPU",
  "colab": {
   "provenance": []
  },
  "gpuClass": "standard",
  "kernelspec": {
   "display_name": "Python 3",
   "name": "python3"
  },
  "language_info": {
   "name": "python"
  }
 },
 "nbformat": 4,
 "nbformat_minor": 0
}
