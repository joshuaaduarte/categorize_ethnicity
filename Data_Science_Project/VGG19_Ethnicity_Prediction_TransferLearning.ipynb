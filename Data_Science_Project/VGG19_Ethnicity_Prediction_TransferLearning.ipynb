{
 "cells": [
  {
   "cell_type": "code",
   "execution_count": 1,
   "metadata": {},
   "outputs": [
    {
     "name": "stdout",
     "output_type": "stream",
     "text": [
      "2.12.0\n"
     ]
    }
   ],
   "source": [
    "import tensorflow as tf\n",
    "print(tf.__version__)"
   ]
  },
  {
   "cell_type": "code",
   "execution_count": 2,
   "metadata": {
    "colab": {
     "base_uri": "https://localhost:8080/",
     "height": 35
    },
    "executionInfo": {
     "elapsed": 383,
     "status": "ok",
     "timestamp": 1683160021952,
     "user": {
      "displayName": "Joshua Duarte",
      "userId": "01336587073212732159"
     },
     "user_tz": 420
    },
    "id": "rr2Z1rLQ210z",
    "outputId": "0ecf9220-9fca-4092-a99d-0dbd3809e4cf"
   },
   "outputs": [
    {
     "name": "stdout",
     "output_type": "stream",
     "text": [
      "/Users/pavanmreddy/Downloads/Data_Science_Project\n"
     ]
    }
   ],
   "source": [
    "! pwd"
   ]
  },
  {
   "cell_type": "code",
   "execution_count": null,
   "metadata": {
    "colab": {
     "base_uri": "https://localhost:8080/"
    },
    "executionInfo": {
     "elapsed": 45503,
     "status": "ok",
     "timestamp": 1683160071254,
     "user": {
      "displayName": "Joshua Duarte",
      "userId": "01336587073212732159"
     },
     "user_tz": 420
    },
    "id": "OL95ZAwl1HxL",
    "outputId": "23795e60-db9a-45cb-cf3e-423dbfbbeed4"
   },
   "outputs": [
    {
     "name": "stdout",
     "output_type": "stream",
     "text": [
      "Cloning into 'categorize_ethnicity'...\n",
      "remote: Enumerating objects: 97645, done.\u001b[K\n",
      "remote: Counting objects: 100% (25/25), done.\u001b[K\n",
      "remote: Compressing objects: 100% (21/21), done.\u001b[K\n",
      "remote: Total 97645 (delta 4), reused 25 (delta 4), pack-reused 97620\u001b[K\n",
      "Receiving objects: 100% (97645/97645), 537.43 MiB | 16.83 MiB/s, done.\n",
      "Resolving deltas: 100% (50/50), done.\n",
      "Updating files: 100% (115707/115707), done.\n"
     ]
    }
   ],
   "source": [
    "# ! git clone https://github.com/joshuaaduarte/categorize_ethnicity.git"
   ]
  },
  {
   "cell_type": "code",
   "execution_count": 3,
   "metadata": {
    "id": "cP482puY18-2"
   },
   "outputs": [],
   "source": [
    "# import the libraries as shown below\n",
    "from tensorflow.keras.layers import Input, Lambda, Dense, Flatten\n",
    "from tensorflow.keras.models import Model\n",
    "from keras.applications.vgg19 import VGG19\n",
    "from tensorflow.keras.applications.resnet50 import preprocess_input\n",
    "from tensorflow.keras.preprocessing import image\n",
    "from tensorflow.keras.preprocessing.image import ImageDataGenerator,load_img\n",
    "from tensorflow.keras.models import Sequential\n",
    "import numpy as np\n",
    "from glob import glob\n",
    "import matplotlib.pyplot as plt"
   ]
  },
  {
   "cell_type": "code",
   "execution_count": 4,
   "metadata": {
    "id": "mV8MTjM73LSz"
   },
   "outputs": [],
   "source": [
    "# change the paths with respect to the local computer path for Josh\n",
    "IMAGE_SIZE = [224,224]\n",
    "train_path = \"/Users/pavanmreddy/Downloads/categorize_ethnicity/train_raw\"\n",
    "test_path = \"/Users/pavanmreddy/Downloads/categorize_ethnicity/val_raw\""
   ]
  },
  {
   "cell_type": "code",
   "execution_count": 5,
   "metadata": {
    "colab": {
     "base_uri": "https://localhost:8080/"
    },
    "executionInfo": {
     "elapsed": 9237,
     "status": "ok",
     "timestamp": 1683160084863,
     "user": {
      "displayName": "Joshua Duarte",
      "userId": "01336587073212732159"
     },
     "user_tz": 420
    },
    "id": "aeZrIpRX3NY8",
    "outputId": "f293e013-da90-4fc5-ff15-47e2cb34ea17"
   },
   "outputs": [
    {
     "name": "stdout",
     "output_type": "stream",
     "text": [
      "Metal device set to: Apple M1 Max\n",
      "Downloading data from https://storage.googleapis.com/tensorflow/keras-applications/vgg19/vgg19_weights_tf_dim_ordering_tf_kernels_notop.h5\n",
      "80134624/80134624 [==============================] - 3s 0us/step\n"
     ]
    }
   ],
   "source": [
    "vgg19 = VGG19(input_shape=IMAGE_SIZE + [3], weights='imagenet', include_top=False)"
   ]
  },
  {
   "cell_type": "code",
   "execution_count": 10,
   "metadata": {
    "id": "fNWRVSxm3Pjv"
   },
   "outputs": [],
   "source": [
    "# don't train existing weights\n",
    "for layer in vgg19.layers:\n",
    "    layer.trainable = False"
   ]
  },
  {
   "cell_type": "code",
   "execution_count": 11,
   "metadata": {
    "id": "x6uota6q3S3_"
   },
   "outputs": [],
   "source": [
    "folders = glob('/Users/pavanmreddy/Downloads/categorize_ethnicity/train_raw/*')"
   ]
  },
  {
   "cell_type": "code",
   "execution_count": 12,
   "metadata": {
    "colab": {
     "base_uri": "https://localhost:8080/"
    },
    "executionInfo": {
     "elapsed": 803,
     "status": "ok",
     "timestamp": 1683160088365,
     "user": {
      "displayName": "Joshua Duarte",
      "userId": "01336587073212732159"
     },
     "user_tz": 420
    },
    "id": "qnr8otVt3U3Y",
    "outputId": "0f38bba0-522f-4bc2-d095-125111cd6deb"
   },
   "outputs": [
    {
     "data": {
      "text/plain": [
       "['/Users/pavanmreddy/Downloads/categorize_ethnicity/train_raw/Indian',\n",
       " '/Users/pavanmreddy/Downloads/categorize_ethnicity/train_raw/Latino_Hispanic',\n",
       " '/Users/pavanmreddy/Downloads/categorize_ethnicity/train_raw/East Asian',\n",
       " '/Users/pavanmreddy/Downloads/categorize_ethnicity/train_raw/Middle Eastern',\n",
       " '/Users/pavanmreddy/Downloads/categorize_ethnicity/train_raw/White',\n",
       " '/Users/pavanmreddy/Downloads/categorize_ethnicity/train_raw/Southeast Asian',\n",
       " '/Users/pavanmreddy/Downloads/categorize_ethnicity/train_raw/Black']"
      ]
     },
     "execution_count": 12,
     "metadata": {},
     "output_type": "execute_result"
    }
   ],
   "source": [
    "folders"
   ]
  },
  {
   "cell_type": "code",
   "execution_count": 13,
   "metadata": {
    "colab": {
     "base_uri": "https://localhost:8080/"
    },
    "executionInfo": {
     "elapsed": 2,
     "status": "ok",
     "timestamp": 1683160089605,
     "user": {
      "displayName": "Joshua Duarte",
      "userId": "01336587073212732159"
     },
     "user_tz": 420
    },
    "id": "etL9-y8F3j_-",
    "outputId": "a6246999-6563-4bf7-bec9-40ff9e34479a"
   },
   "outputs": [
    {
     "data": {
      "text/plain": [
       "7"
      ]
     },
     "execution_count": 13,
     "metadata": {},
     "output_type": "execute_result"
    }
   ],
   "source": [
    "len(folders)"
   ]
  },
  {
   "cell_type": "code",
   "execution_count": 14,
   "metadata": {
    "id": "tIwyaCVo3nDX"
   },
   "outputs": [],
   "source": [
    "# giving better results\n",
    "x = Flatten()(vgg19.output)\n",
    "prediction = Dense(len(folders), activation='softmax')(x)\n",
    "\n",
    "# create a model object\n",
    "model = Model(inputs=vgg19.input, outputs=prediction)"
   ]
  },
  {
   "cell_type": "code",
   "execution_count": 15,
   "metadata": {
    "id": "6gOr4phw497D"
   },
   "outputs": [],
   "source": [
    "IMG_SIZE = 224\n",
    "CHANNELS = 3\n",
    "NUM_CLASSES = 7\n",
    "BATCH_SIZE = 32"
   ]
  },
  {
   "cell_type": "code",
   "execution_count": 16,
   "metadata": {
    "colab": {
     "background_save": true,
     "base_uri": "https://localhost:8080/"
    },
    "executionInfo": {
     "elapsed": 600,
     "status": "ok",
     "timestamp": 1682967455595,
     "user": {
      "displayName": "Jayant Kumar",
      "userId": "09695086404396681962"
     },
     "user_tz": -330
    },
    "id": "5sPW8hEt3q1n",
    "outputId": "e05d62e4-f876-4f0a-ed96-ff98c8b7e7e0"
   },
   "outputs": [
    {
     "name": "stdout",
     "output_type": "stream",
     "text": [
      "Model: \"model\"\n",
      "_________________________________________________________________\n",
      " Layer (type)                Output Shape              Param #   \n",
      "=================================================================\n",
      " input_1 (InputLayer)        [(None, 224, 224, 3)]     0         \n",
      "                                                                 \n",
      " block1_conv1 (Conv2D)       (None, 224, 224, 64)      1792      \n",
      "                                                                 \n",
      " block1_conv2 (Conv2D)       (None, 224, 224, 64)      36928     \n",
      "                                                                 \n",
      " block1_pool (MaxPooling2D)  (None, 112, 112, 64)      0         \n",
      "                                                                 \n",
      " block2_conv1 (Conv2D)       (None, 112, 112, 128)     73856     \n",
      "                                                                 \n",
      " block2_conv2 (Conv2D)       (None, 112, 112, 128)     147584    \n",
      "                                                                 \n",
      " block2_pool (MaxPooling2D)  (None, 56, 56, 128)       0         \n",
      "                                                                 \n",
      " block3_conv1 (Conv2D)       (None, 56, 56, 256)       295168    \n",
      "                                                                 \n",
      " block3_conv2 (Conv2D)       (None, 56, 56, 256)       590080    \n",
      "                                                                 \n",
      " block3_conv3 (Conv2D)       (None, 56, 56, 256)       590080    \n",
      "                                                                 \n",
      " block3_conv4 (Conv2D)       (None, 56, 56, 256)       590080    \n",
      "                                                                 \n",
      " block3_pool (MaxPooling2D)  (None, 28, 28, 256)       0         \n",
      "                                                                 \n",
      " block4_conv1 (Conv2D)       (None, 28, 28, 512)       1180160   \n",
      "                                                                 \n",
      " block4_conv2 (Conv2D)       (None, 28, 28, 512)       2359808   \n",
      "                                                                 \n",
      " block4_conv3 (Conv2D)       (None, 28, 28, 512)       2359808   \n",
      "                                                                 \n",
      " block4_conv4 (Conv2D)       (None, 28, 28, 512)       2359808   \n",
      "                                                                 \n",
      " block4_pool (MaxPooling2D)  (None, 14, 14, 512)       0         \n",
      "                                                                 \n",
      " block5_conv1 (Conv2D)       (None, 14, 14, 512)       2359808   \n",
      "                                                                 \n",
      " block5_conv2 (Conv2D)       (None, 14, 14, 512)       2359808   \n",
      "                                                                 \n",
      " block5_conv3 (Conv2D)       (None, 14, 14, 512)       2359808   \n",
      "                                                                 \n",
      " block5_conv4 (Conv2D)       (None, 14, 14, 512)       2359808   \n",
      "                                                                 \n",
      " block5_pool (MaxPooling2D)  (None, 7, 7, 512)         0         \n",
      "                                                                 \n",
      " flatten (Flatten)           (None, 25088)             0         \n",
      "                                                                 \n",
      " dense (Dense)               (None, 7)                 175623    \n",
      "                                                                 \n",
      "=================================================================\n",
      "Total params: 20,200,007\n",
      "Trainable params: 175,623\n",
      "Non-trainable params: 20,024,384\n",
      "_________________________________________________________________\n"
     ]
    }
   ],
   "source": [
    "model.summary()"
   ]
  },
  {
   "cell_type": "code",
   "execution_count": 17,
   "metadata": {
    "id": "4bko8rZb3sv6"
   },
   "outputs": [],
   "source": [
    "model.compile(\n",
    "  loss='categorical_crossentropy',\n",
    "  optimizer='adam',\n",
    "  metrics=['accuracy']\n",
    ")"
   ]
  },
  {
   "cell_type": "code",
   "execution_count": 18,
   "metadata": {
    "id": "lR6gU37O3ubp"
   },
   "outputs": [],
   "source": [
    "from tensorflow.keras.preprocessing.image import ImageDataGenerator\n",
    "\n",
    "train_datagen = ImageDataGenerator(rescale = 1./255,\n",
    "                                   shear_range = 0.2,\n",
    "                                   rotation_range=2,\n",
    "                                   zoom_range = 0.2,\n",
    "                                   horizontal_flip = True)\n",
    "\n",
    "test_datagen = ImageDataGenerator(rescale = 1./255)"
   ]
  },
  {
   "cell_type": "code",
   "execution_count": 19,
   "metadata": {
    "colab": {
     "base_uri": "https://localhost:8080/"
    },
    "executionInfo": {
     "elapsed": 288,
     "status": "ok",
     "timestamp": 1683076386759,
     "user": {
      "displayName": "pavan pavan",
      "userId": "18335362087683353475"
     },
     "user_tz": 420
    },
    "id": "R8EX4muX3xot",
    "outputId": "224dc1dd-fb7d-4e94-975e-af99d1cd91e0"
   },
   "outputs": [
    {
     "name": "stdout",
     "output_type": "stream",
     "text": [
      "Found 69734 images belonging to 7 classes.\n"
     ]
    }
   ],
   "source": [
    "# Make sure you provide the same target size as initialied for the image size\n",
    "training_set = train_datagen.flow_from_directory(train_path,\n",
    "                                                 target_size = (224, 224),\n",
    "                                                 batch_size = 32,\n",
    "                                                 class_mode = 'categorical')"
   ]
  },
  {
   "cell_type": "code",
   "execution_count": 20,
   "metadata": {
    "colab": {
     "base_uri": "https://localhost:8080/"
    },
    "executionInfo": {
     "elapsed": 1532,
     "status": "ok",
     "timestamp": 1683076388288,
     "user": {
      "displayName": "pavan pavan",
      "userId": "18335362087683353475"
     },
     "user_tz": 420
    },
    "id": "DvTrYL1430HR",
    "outputId": "8382df0b-11a0-452a-f582-a2297b173aa7"
   },
   "outputs": [
    {
     "name": "stdout",
     "output_type": "stream",
     "text": [
      "Found 27660 images belonging to 7 classes.\n"
     ]
    }
   ],
   "source": [
    "test_set = test_datagen.flow_from_directory(test_path,\n",
    "                                            target_size = (224, 224),\n",
    "                                            batch_size = 32,\n",
    "                                            class_mode = 'categorical')"
   ]
  },
  {
   "cell_type": "code",
   "execution_count": 21,
   "metadata": {
    "colab": {
     "background_save": true,
     "base_uri": "https://localhost:8080/"
    },
    "id": "MqWTT4W-KyiO",
    "outputId": "29ad4105-f99b-411b-f018-662117f70f0c"
   },
   "outputs": [
    {
     "name": "stdout",
     "output_type": "stream",
     "text": [
      "Epoch 1/10\n"
     ]
    },
    {
     "name": "stderr",
     "output_type": "stream",
     "text": [
      "2023-05-05 02:00:20.781337: W tensorflow/tsl/platform/profile_utils/cpu_utils.cc:128] Failed to get CPU frequency: 0 Hz\n"
     ]
    },
    {
     "name": "stdout",
     "output_type": "stream",
     "text": [
      "69/69 [==============================] - 21s 274ms/step - loss: 2.3656 - accuracy: 0.1975 - val_loss: 2.1079 - val_accuracy: 0.2355\n",
      "Epoch 2/10\n",
      "69/69 [==============================] - 20s 293ms/step - loss: 1.9821 - accuracy: 0.2572 - val_loss: 1.9885 - val_accuracy: 0.2121\n",
      "Epoch 3/10\n",
      "69/69 [==============================] - 21s 299ms/step - loss: 2.0174 - accuracy: 0.2523 - val_loss: 1.9231 - val_accuracy: 0.2679\n",
      "Epoch 4/10\n",
      "69/69 [==============================] - 21s 302ms/step - loss: 2.0573 - accuracy: 0.2740 - val_loss: 1.9957 - val_accuracy: 0.2556\n",
      "Epoch 5/10\n",
      "69/69 [==============================] - 21s 304ms/step - loss: 1.9417 - accuracy: 0.2966 - val_loss: 1.8636 - val_accuracy: 0.3013\n",
      "Epoch 6/10\n",
      "69/69 [==============================] - 21s 308ms/step - loss: 1.9362 - accuracy: 0.2971 - val_loss: 1.8012 - val_accuracy: 0.3326\n",
      "Epoch 7/10\n",
      "69/69 [==============================] - 22s 312ms/step - loss: 1.9633 - accuracy: 0.3053 - val_loss: 1.8670 - val_accuracy: 0.3092\n",
      "Epoch 8/10\n",
      "69/69 [==============================] - 22s 320ms/step - loss: 2.0173 - accuracy: 0.2957 - val_loss: 1.7411 - val_accuracy: 0.3337\n",
      "Epoch 9/10\n",
      "69/69 [==============================] - 22s 316ms/step - loss: 1.8771 - accuracy: 0.3306 - val_loss: 1.9550 - val_accuracy: 0.3471\n",
      "Epoch 10/10\n",
      "69/69 [==============================] - 22s 313ms/step - loss: 1.9386 - accuracy: 0.3102 - val_loss: 1.9908 - val_accuracy: 0.2891\n"
     ]
    }
   ],
   "source": [
    "# fit the model\n",
    "# Run the cell. It will take some time to execute\n",
    "r = model.fit(\n",
    "  training_set,\n",
    "  validation_data=test_set,\n",
    "  epochs=10,\n",
    "  steps_per_epoch=len(training_set)// BATCH_SIZE + 1,\n",
    "  validation_steps=len(test_set)// BATCH_SIZE + 1,\n",
    ")"
   ]
  },
  {
   "cell_type": "code",
   "execution_count": null,
   "metadata": {
    "colab": {
     "base_uri": "https://localhost:8080/"
    },
    "executionInfo": {
     "elapsed": 2680541,
     "status": "ok",
     "timestamp": 1683008648196,
     "user": {
      "displayName": "pavan pavan",
      "userId": "18335362087683353475"
     },
     "user_tz": 420
    },
    "id": "yBxUAvIYl1O7",
    "outputId": "1a9a2a25-6565-4e81-ad6d-c4413ca264ec"
   },
   "outputs": [
    {
     "name": "stdout",
     "output_type": "stream",
     "text": [
      "Epoch 1/50\n",
      "78/78 [==============================] - 43s 555ms/step - loss: 1.3567 - accuracy: 0.5606 - val_loss: 1.4356 - val_accuracy: 0.5020\n",
      "Epoch 2/50\n",
      "78/78 [==============================] - 45s 569ms/step - loss: 1.3352 - accuracy: 0.5614 - val_loss: 1.4174 - val_accuracy: 0.5079\n",
      "Epoch 3/50\n",
      "78/78 [==============================] - 44s 558ms/step - loss: 1.3049 - accuracy: 0.5755 - val_loss: 1.3990 - val_accuracy: 0.5119\n",
      "Epoch 4/50\n",
      "78/78 [==============================] - 43s 554ms/step - loss: 1.2900 - accuracy: 0.5836 - val_loss: 1.3831 - val_accuracy: 0.5218\n",
      "Epoch 5/50\n",
      "78/78 [==============================] - 44s 556ms/step - loss: 1.2769 - accuracy: 0.5820 - val_loss: 1.3698 - val_accuracy: 0.5218\n",
      "Epoch 6/50\n",
      "78/78 [==============================] - 42s 536ms/step - loss: 1.2632 - accuracy: 0.5751 - val_loss: 1.3565 - val_accuracy: 0.5198\n",
      "Epoch 7/50\n",
      "78/78 [==============================] - 44s 558ms/step - loss: 1.2378 - accuracy: 0.5929 - val_loss: 1.3445 - val_accuracy: 0.5278\n",
      "Epoch 8/50\n",
      "78/78 [==============================] - 43s 549ms/step - loss: 1.2295 - accuracy: 0.5828 - val_loss: 1.3340 - val_accuracy: 0.5337\n",
      "Epoch 9/50\n",
      "78/78 [==============================] - 43s 550ms/step - loss: 1.2161 - accuracy: 0.5868 - val_loss: 1.3232 - val_accuracy: 0.5317\n",
      "Epoch 10/50\n",
      "78/78 [==============================] - 43s 552ms/step - loss: 1.2131 - accuracy: 0.5844 - val_loss: 1.3139 - val_accuracy: 0.5377\n",
      "Epoch 11/50\n",
      "78/78 [==============================] - 44s 560ms/step - loss: 1.1958 - accuracy: 0.6046 - val_loss: 1.3046 - val_accuracy: 0.5476\n",
      "Epoch 12/50\n",
      "78/78 [==============================] - 47s 599ms/step - loss: 1.1964 - accuracy: 0.5925 - val_loss: 1.2967 - val_accuracy: 0.5556\n",
      "Epoch 13/50\n",
      "78/78 [==============================] - 43s 547ms/step - loss: 1.1753 - accuracy: 0.6090 - val_loss: 1.2902 - val_accuracy: 0.5536\n",
      "Epoch 14/50\n",
      "78/78 [==============================] - 43s 552ms/step - loss: 1.1598 - accuracy: 0.6090 - val_loss: 1.2825 - val_accuracy: 0.5536\n",
      "Epoch 15/50\n",
      "78/78 [==============================] - 43s 554ms/step - loss: 1.1719 - accuracy: 0.5929 - val_loss: 1.2767 - val_accuracy: 0.5536\n",
      "Epoch 16/50\n",
      "78/78 [==============================] - 43s 551ms/step - loss: 1.1502 - accuracy: 0.5977 - val_loss: 1.2724 - val_accuracy: 0.5536\n",
      "Epoch 17/50\n",
      "78/78 [==============================] - 43s 550ms/step - loss: 1.1386 - accuracy: 0.6143 - val_loss: 1.2663 - val_accuracy: 0.5516\n",
      "Epoch 18/50\n",
      "78/78 [==============================] - 43s 554ms/step - loss: 1.1345 - accuracy: 0.6179 - val_loss: 1.2608 - val_accuracy: 0.5536\n",
      "Epoch 19/50\n",
      "78/78 [==============================] - 45s 577ms/step - loss: 1.1328 - accuracy: 0.6074 - val_loss: 1.2565 - val_accuracy: 0.5536\n",
      "Epoch 20/50\n",
      "78/78 [==============================] - 46s 583ms/step - loss: 1.1224 - accuracy: 0.6099 - val_loss: 1.2511 - val_accuracy: 0.5556\n",
      "Epoch 21/50\n",
      "78/78 [==============================] - 42s 541ms/step - loss: 1.1148 - accuracy: 0.6155 - val_loss: 1.2471 - val_accuracy: 0.5556\n",
      "Epoch 22/50\n",
      "78/78 [==============================] - 43s 553ms/step - loss: 1.1137 - accuracy: 0.6111 - val_loss: 1.2422 - val_accuracy: 0.5595\n",
      "Epoch 23/50\n",
      "78/78 [==============================] - 44s 564ms/step - loss: 1.1005 - accuracy: 0.6216 - val_loss: 1.2391 - val_accuracy: 0.5575\n",
      "Epoch 24/50\n",
      "78/78 [==============================] - 44s 557ms/step - loss: 1.0925 - accuracy: 0.6252 - val_loss: 1.2359 - val_accuracy: 0.5556\n",
      "Epoch 25/50\n",
      "78/78 [==============================] - 43s 553ms/step - loss: 1.1053 - accuracy: 0.6155 - val_loss: 1.2323 - val_accuracy: 0.5536\n",
      "Epoch 26/50\n",
      "78/78 [==============================] - 45s 577ms/step - loss: 1.0998 - accuracy: 0.6268 - val_loss: 1.2304 - val_accuracy: 0.5536\n",
      "Epoch 27/50\n",
      "78/78 [==============================] - 46s 590ms/step - loss: 1.0851 - accuracy: 0.6224 - val_loss: 1.2279 - val_accuracy: 0.5556\n",
      "Epoch 28/50\n",
      "78/78 [==============================] - 42s 534ms/step - loss: 1.0751 - accuracy: 0.6248 - val_loss: 1.2242 - val_accuracy: 0.5536\n",
      "Epoch 29/50\n",
      "78/78 [==============================] - 43s 547ms/step - loss: 1.0723 - accuracy: 0.6191 - val_loss: 1.2213 - val_accuracy: 0.5536\n",
      "Epoch 30/50\n",
      "78/78 [==============================] - 43s 545ms/step - loss: 1.0776 - accuracy: 0.6212 - val_loss: 1.2194 - val_accuracy: 0.5556\n",
      "Epoch 31/50\n",
      "78/78 [==============================] - 42s 543ms/step - loss: 1.0713 - accuracy: 0.6200 - val_loss: 1.2174 - val_accuracy: 0.5496\n",
      "Epoch 32/50\n",
      "78/78 [==============================] - 45s 578ms/step - loss: 1.0582 - accuracy: 0.6252 - val_loss: 1.2149 - val_accuracy: 0.5496\n",
      "Epoch 33/50\n",
      "78/78 [==============================] - 44s 559ms/step - loss: 1.0612 - accuracy: 0.6264 - val_loss: 1.2128 - val_accuracy: 0.5496\n",
      "Epoch 34/50\n",
      "78/78 [==============================] - 44s 558ms/step - loss: 1.0614 - accuracy: 0.6317 - val_loss: 1.2115 - val_accuracy: 0.5476\n",
      "Epoch 35/50\n",
      "78/78 [==============================] - 43s 552ms/step - loss: 1.0601 - accuracy: 0.6236 - val_loss: 1.2077 - val_accuracy: 0.5476\n",
      "Epoch 36/50\n",
      "78/78 [==============================] - 44s 557ms/step - loss: 1.0458 - accuracy: 0.6397 - val_loss: 1.2053 - val_accuracy: 0.5456\n",
      "Epoch 37/50\n",
      "78/78 [==============================] - 44s 564ms/step - loss: 1.0559 - accuracy: 0.6260 - val_loss: 1.2052 - val_accuracy: 0.5437\n",
      "Epoch 38/50\n",
      "78/78 [==============================] - 43s 551ms/step - loss: 1.0396 - accuracy: 0.6349 - val_loss: 1.2030 - val_accuracy: 0.5417\n",
      "Epoch 39/50\n",
      "78/78 [==============================] - 43s 546ms/step - loss: 1.0445 - accuracy: 0.6256 - val_loss: 1.2013 - val_accuracy: 0.5496\n",
      "Epoch 40/50\n",
      "78/78 [==============================] - 43s 554ms/step - loss: 1.0279 - accuracy: 0.6414 - val_loss: 1.2004 - val_accuracy: 0.5417\n",
      "Epoch 41/50\n",
      "78/78 [==============================] - 42s 542ms/step - loss: 1.0336 - accuracy: 0.6284 - val_loss: 1.1987 - val_accuracy: 0.5437\n",
      "Epoch 42/50\n",
      "78/78 [==============================] - 43s 553ms/step - loss: 1.0245 - accuracy: 0.6401 - val_loss: 1.1981 - val_accuracy: 0.5417\n",
      "Epoch 43/50\n",
      "78/78 [==============================] - 45s 581ms/step - loss: 1.0240 - accuracy: 0.6381 - val_loss: 1.1964 - val_accuracy: 0.5437\n",
      "Epoch 44/50\n",
      "78/78 [==============================] - 44s 554ms/step - loss: 1.0283 - accuracy: 0.6418 - val_loss: 1.1948 - val_accuracy: 0.5476\n",
      "Epoch 45/50\n",
      "78/78 [==============================] - 44s 566ms/step - loss: 1.0133 - accuracy: 0.6490 - val_loss: 1.1930 - val_accuracy: 0.5456\n",
      "Epoch 46/50\n",
      "78/78 [==============================] - 44s 565ms/step - loss: 1.0102 - accuracy: 0.6466 - val_loss: 1.1918 - val_accuracy: 0.5417\n",
      "Epoch 47/50\n",
      "78/78 [==============================] - 44s 564ms/step - loss: 1.0208 - accuracy: 0.6353 - val_loss: 1.1919 - val_accuracy: 0.5437\n",
      "Epoch 48/50\n",
      "78/78 [==============================] - 44s 564ms/step - loss: 1.0023 - accuracy: 0.6494 - val_loss: 1.1899 - val_accuracy: 0.5476\n",
      "Epoch 49/50\n",
      "78/78 [==============================] - 44s 557ms/step - loss: 1.0079 - accuracy: 0.6450 - val_loss: 1.1883 - val_accuracy: 0.5476\n",
      "Epoch 50/50\n",
      "78/78 [==============================] - 45s 581ms/step - loss: 1.0007 - accuracy: 0.6389 - val_loss: 1.1862 - val_accuracy: 0.5476\n"
     ]
    }
   ],
   "source": [
    "# fit the model\n",
    "# Run the cell. It will take some time to execute\n",
    "r = model.fit(\n",
    "  training_set,\n",
    "  validation_data=test_set,\n",
    "  epochs=50,\n",
    "  steps_per_epoch=len(training_set),\n",
    "  validation_steps=len(test_set)\n",
    ")"
   ]
  },
  {
   "cell_type": "code",
   "execution_count": null,
   "metadata": {
    "colab": {
     "base_uri": "https://localhost:8080/",
     "height": 860
    },
    "executionInfo": {
     "elapsed": 21,
     "status": "ok",
     "timestamp": 1682964675698,
     "user": {
      "displayName": "Jayant Kumar",
      "userId": "09695086404396681962"
     },
     "user_tz": -330
    },
    "id": "xyztPYniKiPc",
    "outputId": "fab61c3e-5a4e-4cec-ec80-4f461ca7b44b"
   },
   "outputs": [
    {
     "data": {
      "image/png": "[encoded data removed]",
      "text/plain": [
       "<Figure size 640x480 with 1 Axes>"
      ]
     },
     "metadata": {},
     "output_type": "display_data"
    },
    {
     "data": {
      "image/png": "[encoded data removed]",
      "text/plain": [
       "<Figure size 640x480 with 1 Axes>"
      ]
     },
     "metadata": {},
     "output_type": "display_data"
    },
    {
     "data": {
      "text/plain": [
       "<Figure size 640x480 with 0 Axes>"
      ]
     },
     "metadata": {},
     "output_type": "display_data"
    }
   ],
   "source": [
    "# plot the loss\n",
    "plt.plot(r.history['loss'], label='train loss')\n",
    "plt.plot(r.history['val_loss'], label='val loss')\n",
    "plt.legend()\n",
    "plt.show()\n",
    "plt.savefig('LossVal_loss')\n",
    "\n",
    "# plot the accuracy\n",
    "plt.plot(r.history['accuracy'], label='train acc')\n",
    "plt.plot(r.history['val_accuracy'], label='val acc')\n",
    "plt.legend()\n",
    "plt.show()\n",
    "plt.savefig('AccVal_acc')"
   ]
  },
  {
   "cell_type": "code",
   "execution_count": null,
   "metadata": {},
   "outputs": [],
   "source": [
    "from google.colab import drive\n",
    "\n",
    "drive.mount('/content/gdrive', force_remount=True)"
   ]
  },
  {
   "cell_type": "code",
   "execution_count": null,
   "metadata": {
    "id": "XJqcfFgtWFWw"
   },
   "outputs": [],
   "source": [
    "! mkdir /content/gdrive/MyDrive/DataScience_Project/modelweights"
   ]
  },
  {
   "cell_type": "code",
   "execution_count": null,
   "metadata": {},
   "outputs": [],
   "source": [
    "! cd mkdir /content/gdrive/MyDrive/DataScience_Project/modelweights"
   ]
  },
  {
   "cell_type": "code",
   "execution_count": null,
   "metadata": {},
   "outputs": [],
   "source": [
    "! pwd"
   ]
  },
  {
   "cell_type": "code",
   "execution_count": null,
   "metadata": {},
   "outputs": [],
   "source": [
    "from tensorflow.keras.models import load_model\n",
    "model.save('model_vggface50raw.h5')"
   ]
  }
 ],
 "metadata": {
  "accelerator": "GPU",
  "colab": {
   "provenance": [
    {
     "file_id": "1ghAqhb2peU2ayldmIvVgyiYxF5euYZph",
     "timestamp": 1682967795493
    }
   ]
  },
  "gpuClass": "standard",
  "kernelspec": {
   "display_name": "Python 3 (ipykernel)",
   "language": "python",
   "name": "python3"
  },
  "language_info": {
   "codemirror_mode": {
    "name": "ipython",
    "version": 3
   },
   "file_extension": ".py",
   "mimetype": "text/x-python",
   "name": "python",
   "nbconvert_exporter": "python",
   "pygments_lexer": "ipython3",
   "version": "3.10.11"
  }
 },
 "nbformat": 4,
 "nbformat_minor": 4
}
